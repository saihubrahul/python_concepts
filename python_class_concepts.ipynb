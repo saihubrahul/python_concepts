{
 "cells": [
  {
   "cell_type": "code",
   "execution_count": 11,
   "id": "0f639b56-9f14-4709-93f7-f6172ace577a",
   "metadata": {},
   "outputs": [
    {
     "name": "stdout",
     "output_type": "stream",
     "text": [
      "cricket\n",
      "badminton\n",
      "golf\n"
     ]
    }
   ],
   "source": [
    "dict1={1:\"cricket\",2:\"football\",3:\"badminton\",4:\"tennis\",5:\"golf\"}\n",
    "for i in dict1.keys():\n",
    "    if i%2!=0:\n",
    "        print(dict1[i])\n",
    "        i=i+1\n",
    "    \n",
    "    \n",
    "    "
   ]
  },
  {
   "cell_type": "code",
   "execution_count": 9,
   "id": "8b9a60e0-080b-4b73-a8a5-84792fcb8dbf",
   "metadata": {},
   "outputs": [
    {
     "name": "stdout",
     "output_type": "stream",
     "text": [
      "[(0, 'apple'), (1, 'banana'), (2, 'cherry')]\n"
     ]
    }
   ],
   "source": [
    "x = ('apple', 'banana', 'cherry')\n",
    "y = enumerate(x)\n",
    "\n",
    "print(list(y))\n"
   ]
  },
  {
   "cell_type": "code",
   "execution_count": 13,
   "id": "f1fd549f-97cf-40ba-bde2-ebf78c8a65aa",
   "metadata": {},
   "outputs": [
    {
     "name": "stdout",
     "output_type": "stream",
     "text": [
      "[1, 3, 5, 7, 9]\n",
      "[2, 4, 6, 8, 10]\n"
     ]
    }
   ],
   "source": [
    "l=[1,2,3,4,5,6,7,8,9,10]\n",
    "l1=[]\n",
    "l2=[]\n",
    "for i ,j in enumerate(l):\n",
    "    if i%2==0:\n",
    "        l1.append(j)\n",
    "        \n",
    "    else:\n",
    "        l2.append(j)\n",
    "print(l1)\n",
    "print(l2)\n",
    "        "
   ]
  },
  {
   "cell_type": "code",
   "execution_count": 24,
   "id": "3055058f-f214-4e64-ae78-682df7a0e348",
   "metadata": {},
   "outputs": [
    {
     "name": "stdout",
     "output_type": "stream",
     "text": [
      "max value of odd is : 9\n",
      "max value of even is: 10\n"
     ]
    }
   ],
   "source": [
    "def max_val(l,m):\n",
    "    k=max(l)\n",
    "    o=max(m)\n",
    "    return k,o\n",
    "i,j = max_val(l1,l2)\n",
    "print(\"max value of odd is :\",i)\n",
    "print(\"max value of even is:\",j)"
   ]
  },
  {
   "cell_type": "code",
   "execution_count": 6,
   "id": "acd1214f-08ce-4a99-ad38-6046b84dca80",
   "metadata": {},
   "outputs": [
    {
     "name": "stdin",
     "output_type": "stream",
     "text": [
      "enter your name sa\n",
      "enter your mobile number: 1234566789\n"
     ]
    },
    {
     "data": {
      "text/plain": [
       "True"
      ]
     },
     "execution_count": 6,
     "metadata": {},
     "output_type": "execute_result"
    }
   ],
   "source": [
    "def name_check(name):\n",
    "    if name.isalpha() and name.istitle():\n",
    "        return True\n",
    "    else:\n",
    "        print(\"incorrect name\")\n",
    "def num_check(number):\n",
    "    if number.isdigit() and len(number)==10:\n",
    "        return True\n",
    "    else:\n",
    "        return False\n",
    "name=input(\"enter your name\")\n",
    "number=input(\"enter your mobile number:\")\n",
    "name_check(name)\n",
    "num_check(number)\n"
   ]
  },
  {
   "cell_type": "code",
   "execution_count": 4,
   "id": "62d1b0d1-eb09-44f7-b2df-f667a21881e7",
   "metadata": {},
   "outputs": [
    {
     "name": "stdout",
     "output_type": "stream",
     "text": [
      "The CarName is ford The Brand Is mustang The color is black\n"
     ]
    }
   ],
   "source": [
    "class cars:\n",
    "    def __init__(self,car,brand,color):\n",
    "        self.car=car\n",
    "        self.brand=brand\n",
    "        self.color=color\n",
    "    def d\n",
    "    \n",
    "    isplay(self):\n",
    "        print(\"The CarName is \" + self.car + \" The Brand Is \" + self.brand + \" The Color Is \" + self.color)\n",
    "obj=cars('ford','mustang','black')\n",
    "obj.display()\n"
   ]
  },
  {
   "cell_type": "code",
   "execution_count": 13,
   "id": "a74b0481-caa2-4cc6-ac80-b106aecf1ce8",
   "metadata": {},
   "outputs": [
    {
     "name": "stdout",
     "output_type": "stream",
     "text": [
      "Hello, and welcome!\n"
     ]
    }
   ],
   "source": [
    "\n",
    "class Parent:\n",
    "  def __init__(self, txt):\n",
    "    self.message = txt\n",
    "\n",
    "  def printmessage(self):\n",
    "    print(self.message)\n",
    "\n",
    "class Child(Parent):\n",
    "  def __init__(self, txt):\n",
    "    super().__init__(txt)\n",
    "      \n",
    "class grandchild(Child):\n",
    "    def __init__(self,txt):\n",
    "        super().__init__(txt)\n",
    "\n",
    "x = Child(\"Hello, and welcome!\")\n",
    "\n",
    "x.printmessage()\n"
   ]
  },
  {
   "cell_type": "code",
   "execution_count": 16,
   "id": "4f602084-5a86-4c5a-8e1d-da161213d41f",
   "metadata": {},
   "outputs": [
    {
     "name": "stdout",
     "output_type": "stream",
     "text": [
      "Adolf Hitler\n"
     ]
    }
   ],
   "source": [
    "class Parent:\n",
    "    def __init__(self,f_name,l_name):\n",
    "        self.firstname=f_name\n",
    "        self.lastname=l_name\n",
    "    def printname(self):\n",
    "        print(self.firstname, self.lastname)\n",
    "x = Parent(\"Adolf\",\"Hitler\")\n",
    "x.printname()\n",
    "    \n",
    "        \n",
    "    "
   ]
  },
  {
   "cell_type": "code",
   "execution_count": 15,
   "id": "3a867d56-d575-4320-8ba4-b1b8df1ac539",
   "metadata": {},
   "outputs": [
    {
     "name": "stdout",
     "output_type": "stream",
     "text": [
      "vanakkam da maapla theni la irunthu\n"
     ]
    }
   ],
   "source": [
    "class GrandParent:\n",
    "    def __init__(self,txt):\n",
    "        self.message=txt\n",
    "    def printmessage(self):\n",
    "        print(self.message)\n",
    "\n",
    "class Father:\n",
    "    def __init__(self,txt):\n",
    "        super().__init__(txt)\n",
    "        \n",
    "x=GrandParent(\"vanakkam da maapla theni la irunthu\") \n",
    "x.printmessage()\n",
    "        \n",
    "        "
   ]
  },
  {
   "cell_type": "code",
   "execution_count": 3,
   "id": "cabeb924-1497-41d2-9338-ca016b907eac",
   "metadata": {},
   "outputs": [
    {
     "name": "stdout",
     "output_type": "stream",
     "text": [
      "DINESH\n"
     ]
    }
   ],
   "source": [
    "def up_decorator(function):\n",
    "    def wrapper():\n",
    "        result = function()\n",
    "        return result.upper()\n",
    "    return wrapper\n",
    "\n",
    "@up_decorator\n",
    "def string_fun():\n",
    "    return \"Dinesh\"\n",
    "\n",
    "print(string_fun())\n",
    "\n",
    "    \n",
    "    "
   ]
  },
  {
   "cell_type": "code",
   "execution_count": 6,
   "id": "48ad8c21-be3e-4fdb-af91-55a477575d27",
   "metadata": {},
   "outputs": [
    {
     "name": "stdout",
     "output_type": "stream",
     "text": [
      "before some_fun() is called.\n",
      "Wheee!\n",
      "after some_fun() is called.\n"
     ]
    }
   ],
   "source": [
    "def my_decorator(some_fun):\n",
    "    def wrapper():\n",
    "        print(\"before some_fun() is called.\")\n",
    "        some_fun()\n",
    "        print(\"after some_fun() is called.\")\n",
    "    return wrapper\n",
    "\n",
    "@my_decorator\n",
    "def just_some_fun():\n",
    "    print(\"Wheee!\")\n",
    "just_some_fun()    "
   ]
  },
  {
   "cell_type": "code",
   "execution_count": null,
   "id": "6ece8430-b3b7-43f7-986e-f2b3404f399f",
   "metadata": {},
   "outputs": [],
   "source": []
  }
 ],
 "metadata": {
  "kernelspec": {
   "display_name": "Python 3 (ipykernel)",
   "language": "python",
   "name": "python3"
  },
  "language_info": {
   "codemirror_mode": {
    "name": "ipython",
    "version": 3
   },
   "file_extension": ".py",
   "mimetype": "text/x-python",
   "name": "python",
   "nbconvert_exporter": "python",
   "pygments_lexer": "ipython3",
   "version": "3.10.10"
  }
 },
 "nbformat": 4,
 "nbformat_minor": 5
}
